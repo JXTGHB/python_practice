{
  "nbformat": 4,
  "nbformat_minor": 0,
  "metadata": {
    "colab": {
      "provenance": []
    },
    "kernelspec": {
      "name": "python3",
      "display_name": "Python 3"
    },
    "language_info": {
      "name": "python"
    }
  },
  "cells": [
    {
      "cell_type": "code",
      "execution_count": 102,
      "metadata": {
        "id": "vd2UQmDnCItp"
      },
      "outputs": [],
      "source": [
        "import pandas as pd\n",
        "a = [] # list\n",
        "df = pd.read_excel(\"trello各組討論統計資料.xlsx\",sheet_name = 5)\n",
        "a = df['全部'].tolist() #convert df to list #記得改欄位名稱！！！\n",
        "g1_name = ['蔡嘉儀','李亭萱','洪米丁','吳易珊','ywnnn','我速鈞哥','莊珉瑜','游凱翔','鄭博晏']\n",
        "g2_name = ['ywnnn','我速鈞哥','賴霈洲','曾珮涵','陳奕翰','游凱翔','莊珉瑜','鄭博晏'] \n",
        "g5_name = ['ywnnn','我速鈞哥','莊珉瑜','游凱翔','鄭博晏','黃浩軒','鍾衍震','羅健瑋','鍾嘉羚','彭圓惠']\n",
        "g3_name = ['ywnnn','我速鈞哥','賴志光','黃冠樺','鄒伊辰','吳介','林佳蕙','游凱翔','莊珉瑜','鄭博晏']\n",
        "g4_name = ['ywnnn','我速鈞哥','莊珉瑜','游凱翔','鄭毓雯','賴幼心','吳佳蓁','黃政穎','王欣茹','鄭博晏']\n",
        "g6_name = ['ywnnn','我速鈞哥','莊珉瑜','游凱翔','鄭博晏','莊翌琳','羅文成','劉封龍','李婉慈','傅彩如']"
      ]
    },
    {
      "cell_type": "code",
      "source": [
        "type1 = '已完成' #兩行\n",
        "type2 = '在' #很多行\n",
        "type3 = '已將' #一行\n",
        "for i in range(len(a)):\n",
        "  a[i] = str(a[i])\n"
      ],
      "metadata": {
        "id": "Sg1OnGTVCdW4"
      },
      "execution_count": 104,
      "outputs": []
    },
    {
      "cell_type": "code",
      "source": [
        "contentstr = '' #儲存訊息\n",
        "havename = False #判斷是否有名字\n",
        "name = [] #存名字\n",
        "content = [] #存內容\n",
        "for i in range(1,len(a)): #range裡面兩個變數前面是起始 後面是上限 \n",
        "  havename = False\n",
        "  for n in g6_name: #組1的所有名字\n",
        "    if n in a[i]:\n",
        "      if contentstr != '':\n",
        "        content.append(contentstr)\n",
        "        contentstr = ''\n",
        "      havename = True #有名字\n",
        "      name.append(n)\n",
        "      tmp = a[i].replace(n,'')\n",
        "      contentstr += tmp\n",
        "  if havename == False:\n",
        "    contentstr += a[i]\n",
        "content.append(contentstr) #處理最後一筆資料\n",
        "print(len(name))\n",
        "print(len(content))"
      ],
      "metadata": {
        "colab": {
          "base_uri": "https://localhost:8080/"
        },
        "id": "IWSE947QCxgx",
        "outputId": "1767a363-66b0-4a31-fd7d-6fec24ab8413"
      },
      "execution_count": 106,
      "outputs": [
        {
          "output_type": "stream",
          "name": "stdout",
          "text": [
            "1039\n",
            "1039\n"
          ]
        }
      ]
    },
    {
      "cell_type": "code",
      "source": [
        "name[157]\n",
        "content[158]"
      ],
      "metadata": {
        "colab": {
          "base_uri": "https://localhost:8080/",
          "height": 35
        },
        "id": "6WkAw8xKyiod",
        "outputId": "bc2a315d-d52a-40cd-cae1-73b946014c78"
      },
      "execution_count": null,
      "outputs": [
        {
          "output_type": "execute_result",
          "data": {
            "text/plain": [
              "' 已建立這個看板2021年11月30日 晚上7點56分nanProcess finished with exit code 0'"
            ],
            "application/vnd.google.colaboratory.intrinsic+json": {
              "type": "string"
            }
          },
          "metadata": {},
          "execution_count": 46
        }
      ]
    },
    {
      "cell_type": "code",
      "source": [
        "tmp = {'使用者':name,'內容':content}\n",
        "article = pd.DataFrame(tmp)\n",
        "#article.to_excel(\"output.xlsx\",sheet_name = 'Sheet1')\n",
        "df1 = article"
      ],
      "metadata": {
        "id": "_2H4JI0jHZ_W"
      },
      "execution_count": 107,
      "outputs": []
    },
    {
      "cell_type": "code",
      "source": [
        "SRL = ['起始','規劃','執行','監控','結束','反思及回饋']\n",
        "for index, row in article.iterrows():\n",
        "    for i in SRL:\n",
        "      if i in row['內容']:\n",
        "        df1.loc[index,'類別'] = i\n",
        "df1"
      ],
      "metadata": {
        "id": "OHE4qxgKVzAj",
        "colab": {
          "base_uri": "https://localhost:8080/",
          "height": 424
        },
        "outputId": "8f7d7ce9-f7d6-4095-df68-0968f56b895f"
      },
      "execution_count": 108,
      "outputs": [
        {
          "output_type": "execute_result",
          "data": {
            "text/plain": [
              "      使用者                                                 內容     類別\n",
              "0     劉封龍       在 執行 6月13日 下午4點09分結論是~環保。節能。滅碳。愛地球。創造全民綠生活 !     執行\n",
              "1     劉封龍   在 執行 6月13日 下午4點02分作業資料有更新...(因為有些無法顯示及連結...)第...     執行\n",
              "2     傅彩如   在 反思及回饋 6月13日 下午4點02分這次的期末報告與以往不同的是，之前都是使用老師提...  反思及回饋\n",
              "3     劉封龍     已將 第六組_從環保資料看見全民綠生活.twbx 附加到 執行 6月13日 下午4點01分      執行\n",
              "4     劉封龍     已從「執行」刪除附件「第六組_從環保資料看見全民綠生活.twbx」6月13日 下午3點59分     執行\n",
              "...   ...                                                ...    ...\n",
              "1034  莊翌琳   在 規劃 4月26日 晚上7點24分排序工作項目Step1列出各年份銷售的手機類中所有的產...     規劃\n",
              "1035  莊翌琳   在 規劃 4月26日 晚上7點19分拆解工作項目列出手機類中所有的產品名稱計算各市場的產品...     規劃\n",
              "1036  羅文成                   已將卡片「結束」的截止日期標示為未完成4月26日 晚上7點12分     結束\n",
              "1037  羅文成                    已將卡片「結束」的截止日期標示為完成4月26日 晚上7點12分     結束\n",
              "1038  莊翌琳        已將「反思及回饋」的截止日期設為 5月1日 晚上10點00分4月26日 晚上7點10分  反思及回饋\n",
              "\n",
              "[1039 rows x 3 columns]"
            ],
            "text/html": [
              "\n",
              "  <div id=\"df-8eb240fa-a4d9-4767-839c-6f146110b01e\">\n",
              "    <div class=\"colab-df-container\">\n",
              "      <div>\n",
              "<style scoped>\n",
              "    .dataframe tbody tr th:only-of-type {\n",
              "        vertical-align: middle;\n",
              "    }\n",
              "\n",
              "    .dataframe tbody tr th {\n",
              "        vertical-align: top;\n",
              "    }\n",
              "\n",
              "    .dataframe thead th {\n",
              "        text-align: right;\n",
              "    }\n",
              "</style>\n",
              "<table border=\"1\" class=\"dataframe\">\n",
              "  <thead>\n",
              "    <tr style=\"text-align: right;\">\n",
              "      <th></th>\n",
              "      <th>使用者</th>\n",
              "      <th>內容</th>\n",
              "      <th>類別</th>\n",
              "    </tr>\n",
              "  </thead>\n",
              "  <tbody>\n",
              "    <tr>\n",
              "      <th>0</th>\n",
              "      <td>劉封龍</td>\n",
              "      <td>在 執行 6月13日 下午4點09分結論是~環保。節能。滅碳。愛地球。創造全民綠生活 !</td>\n",
              "      <td>執行</td>\n",
              "    </tr>\n",
              "    <tr>\n",
              "      <th>1</th>\n",
              "      <td>劉封龍</td>\n",
              "      <td>在 執行 6月13日 下午4點02分作業資料有更新...(因為有些無法顯示及連結...)第...</td>\n",
              "      <td>執行</td>\n",
              "    </tr>\n",
              "    <tr>\n",
              "      <th>2</th>\n",
              "      <td>傅彩如</td>\n",
              "      <td>在 反思及回饋 6月13日 下午4點02分這次的期末報告與以往不同的是，之前都是使用老師提...</td>\n",
              "      <td>反思及回饋</td>\n",
              "    </tr>\n",
              "    <tr>\n",
              "      <th>3</th>\n",
              "      <td>劉封龍</td>\n",
              "      <td>已將 第六組_從環保資料看見全民綠生活.twbx 附加到 執行 6月13日 下午4點01分</td>\n",
              "      <td>執行</td>\n",
              "    </tr>\n",
              "    <tr>\n",
              "      <th>4</th>\n",
              "      <td>劉封龍</td>\n",
              "      <td>已從「執行」刪除附件「第六組_從環保資料看見全民綠生活.twbx」6月13日 下午3點59分</td>\n",
              "      <td>執行</td>\n",
              "    </tr>\n",
              "    <tr>\n",
              "      <th>...</th>\n",
              "      <td>...</td>\n",
              "      <td>...</td>\n",
              "      <td>...</td>\n",
              "    </tr>\n",
              "    <tr>\n",
              "      <th>1034</th>\n",
              "      <td>莊翌琳</td>\n",
              "      <td>在 規劃 4月26日 晚上7點24分排序工作項目Step1列出各年份銷售的手機類中所有的產...</td>\n",
              "      <td>規劃</td>\n",
              "    </tr>\n",
              "    <tr>\n",
              "      <th>1035</th>\n",
              "      <td>莊翌琳</td>\n",
              "      <td>在 規劃 4月26日 晚上7點19分拆解工作項目列出手機類中所有的產品名稱計算各市場的產品...</td>\n",
              "      <td>規劃</td>\n",
              "    </tr>\n",
              "    <tr>\n",
              "      <th>1036</th>\n",
              "      <td>羅文成</td>\n",
              "      <td>已將卡片「結束」的截止日期標示為未完成4月26日 晚上7點12分</td>\n",
              "      <td>結束</td>\n",
              "    </tr>\n",
              "    <tr>\n",
              "      <th>1037</th>\n",
              "      <td>羅文成</td>\n",
              "      <td>已將卡片「結束」的截止日期標示為完成4月26日 晚上7點12分</td>\n",
              "      <td>結束</td>\n",
              "    </tr>\n",
              "    <tr>\n",
              "      <th>1038</th>\n",
              "      <td>莊翌琳</td>\n",
              "      <td>已將「反思及回饋」的截止日期設為 5月1日 晚上10點00分4月26日 晚上7點10分</td>\n",
              "      <td>反思及回饋</td>\n",
              "    </tr>\n",
              "  </tbody>\n",
              "</table>\n",
              "<p>1039 rows × 3 columns</p>\n",
              "</div>\n",
              "      <button class=\"colab-df-convert\" onclick=\"convertToInteractive('df-8eb240fa-a4d9-4767-839c-6f146110b01e')\"\n",
              "              title=\"Convert this dataframe to an interactive table.\"\n",
              "              style=\"display:none;\">\n",
              "        \n",
              "  <svg xmlns=\"http://www.w3.org/2000/svg\" height=\"24px\"viewBox=\"0 0 24 24\"\n",
              "       width=\"24px\">\n",
              "    <path d=\"M0 0h24v24H0V0z\" fill=\"none\"/>\n",
              "    <path d=\"M18.56 5.44l.94 2.06.94-2.06 2.06-.94-2.06-.94-.94-2.06-.94 2.06-2.06.94zm-11 1L8.5 8.5l.94-2.06 2.06-.94-2.06-.94L8.5 2.5l-.94 2.06-2.06.94zm10 10l.94 2.06.94-2.06 2.06-.94-2.06-.94-.94-2.06-.94 2.06-2.06.94z\"/><path d=\"M17.41 7.96l-1.37-1.37c-.4-.4-.92-.59-1.43-.59-.52 0-1.04.2-1.43.59L10.3 9.45l-7.72 7.72c-.78.78-.78 2.05 0 2.83L4 21.41c.39.39.9.59 1.41.59.51 0 1.02-.2 1.41-.59l7.78-7.78 2.81-2.81c.8-.78.8-2.07 0-2.86zM5.41 20L4 18.59l7.72-7.72 1.47 1.35L5.41 20z\"/>\n",
              "  </svg>\n",
              "      </button>\n",
              "      \n",
              "  <style>\n",
              "    .colab-df-container {\n",
              "      display:flex;\n",
              "      flex-wrap:wrap;\n",
              "      gap: 12px;\n",
              "    }\n",
              "\n",
              "    .colab-df-convert {\n",
              "      background-color: #E8F0FE;\n",
              "      border: none;\n",
              "      border-radius: 50%;\n",
              "      cursor: pointer;\n",
              "      display: none;\n",
              "      fill: #1967D2;\n",
              "      height: 32px;\n",
              "      padding: 0 0 0 0;\n",
              "      width: 32px;\n",
              "    }\n",
              "\n",
              "    .colab-df-convert:hover {\n",
              "      background-color: #E2EBFA;\n",
              "      box-shadow: 0px 1px 2px rgba(60, 64, 67, 0.3), 0px 1px 3px 1px rgba(60, 64, 67, 0.15);\n",
              "      fill: #174EA6;\n",
              "    }\n",
              "\n",
              "    [theme=dark] .colab-df-convert {\n",
              "      background-color: #3B4455;\n",
              "      fill: #D2E3FC;\n",
              "    }\n",
              "\n",
              "    [theme=dark] .colab-df-convert:hover {\n",
              "      background-color: #434B5C;\n",
              "      box-shadow: 0px 1px 3px 1px rgba(0, 0, 0, 0.15);\n",
              "      filter: drop-shadow(0px 1px 2px rgba(0, 0, 0, 0.3));\n",
              "      fill: #FFFFFF;\n",
              "    }\n",
              "  </style>\n",
              "\n",
              "      <script>\n",
              "        const buttonEl =\n",
              "          document.querySelector('#df-8eb240fa-a4d9-4767-839c-6f146110b01e button.colab-df-convert');\n",
              "        buttonEl.style.display =\n",
              "          google.colab.kernel.accessAllowed ? 'block' : 'none';\n",
              "\n",
              "        async function convertToInteractive(key) {\n",
              "          const element = document.querySelector('#df-8eb240fa-a4d9-4767-839c-6f146110b01e');\n",
              "          const dataTable =\n",
              "            await google.colab.kernel.invokeFunction('convertToInteractive',\n",
              "                                                     [key], {});\n",
              "          if (!dataTable) return;\n",
              "\n",
              "          const docLinkHtml = 'Like what you see? Visit the ' +\n",
              "            '<a target=\"_blank\" href=https://colab.research.google.com/notebooks/data_table.ipynb>data table notebook</a>'\n",
              "            + ' to learn more about interactive tables.';\n",
              "          element.innerHTML = '';\n",
              "          dataTable['output_type'] = 'display_data';\n",
              "          await google.colab.output.renderOutput(dataTable, element);\n",
              "          const docLink = document.createElement('div');\n",
              "          docLink.innerHTML = docLinkHtml;\n",
              "          element.appendChild(docLink);\n",
              "        }\n",
              "      </script>\n",
              "    </div>\n",
              "  </div>\n",
              "  "
            ]
          },
          "metadata": {},
          "execution_count": 108
        }
      ]
    },
    {
      "cell_type": "code",
      "source": [
        "df1.to_excel(\"output_6.xlsx\",sheet_name = 'Sheet1')"
      ],
      "metadata": {
        "id": "0kjXARJvvpQ5"
      },
      "execution_count": 109,
      "outputs": []
    },
    {
      "cell_type": "code",
      "source": [],
      "metadata": {
        "id": "XuaTDkTptPiP"
      },
      "execution_count": null,
      "outputs": []
    }
  ]
}